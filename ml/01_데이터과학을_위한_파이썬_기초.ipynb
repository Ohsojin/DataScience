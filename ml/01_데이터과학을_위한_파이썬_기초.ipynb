{
  "nbformat": 4,
  "nbformat_minor": 0,
  "metadata": {
    "colab": {
      "name": "01_데이터과학을 위한 파이썬 기초.ipynb",
      "provenance": [],
      "collapsed_sections": [],
      "authorship_tag": "ABX9TyPaim5EKGD8Qn/Y+QGKlUE2",
      "include_colab_link": true
    },
    "kernelspec": {
      "name": "python3",
      "display_name": "Python 3"
    },
    "language_info": {
      "name": "python"
    }
  },
  "cells": [
    {
      "cell_type": "markdown",
      "metadata": {
        "id": "view-in-github",
        "colab_type": "text"
      },
      "source": [
        "<a href=\"https://colab.research.google.com/github/Ohsojin/DataScience/blob/main/01_%EB%8D%B0%EC%9D%B4%ED%84%B0%EA%B3%BC%ED%95%99%EC%9D%84_%EC%9C%84%ED%95%9C_%ED%8C%8C%EC%9D%B4%EC%8D%AC_%EA%B8%B0%EC%B4%88.ipynb\" target=\"_parent\"><img src=\"https://colab.research.google.com/assets/colab-badge.svg\" alt=\"Open In Colab\"/></a>"
      ]
    },
    {
      "cell_type": "markdown",
      "metadata": {
        "id": "HcZjdeDASh2S"
      },
      "source": [
        "strip()  공백 제거 함수"
      ]
    },
    {
      "cell_type": "code",
      "metadata": {
        "colab": {
          "base_uri": "https://localhost:8080/",
          "height": 35
        },
        "id": "KKmIhgcLTI5y",
        "outputId": "5489ca37-bdc4-465a-bc7c-37b601e03571"
      },
      "source": [
        "st = \"Hello, world! \\t\\t\\n\" # 모든 줄 바꿈과 탭 (\\n, \\r, \\t)\n",
        "st"
      ],
      "execution_count": null,
      "outputs": [
        {
          "output_type": "execute_result",
          "data": {
            "application/vnd.google.colaboratory.intrinsic+json": {
              "type": "string"
            },
            "text/plain": [
              "'Hello, world! \\t\\t\\n'"
            ]
          },
          "metadata": {
            "tags": []
          },
          "execution_count": 1
        }
      ]
    },
    {
      "cell_type": "code",
      "metadata": {
        "colab": {
          "base_uri": "https://localhost:8080/",
          "height": 35
        },
        "id": "EuWUSOnpTMML",
        "outputId": "56172e5e-6e97-468f-e281-3be8fdfcf877"
      },
      "source": [
        "st.strip() # 모든 공백 제거"
      ],
      "execution_count": null,
      "outputs": [
        {
          "output_type": "execute_result",
          "data": {
            "application/vnd.google.colaboratory.intrinsic+json": {
              "type": "string"
            },
            "text/plain": [
              "'Hello, world!'"
            ]
          },
          "metadata": {
            "tags": []
          },
          "execution_count": 2
        }
      ]
    },
    {
      "cell_type": "code",
      "metadata": {
        "colab": {
          "base_uri": "https://localhost:8080/",
          "height": 35
        },
        "id": "dtxnt3IrTYdq",
        "outputId": "ca722045-51f0-4e7a-8862-d032def5006d"
      },
      "source": [
        "st.lstrip() # 왼쪽 공백 제거"
      ],
      "execution_count": null,
      "outputs": [
        {
          "output_type": "execute_result",
          "data": {
            "application/vnd.google.colaboratory.intrinsic+json": {
              "type": "string"
            },
            "text/plain": [
              "'Hello, world! \\t\\t\\n'"
            ]
          },
          "metadata": {
            "tags": []
          },
          "execution_count": 3
        }
      ]
    },
    {
      "cell_type": "code",
      "metadata": {
        "colab": {
          "base_uri": "https://localhost:8080/",
          "height": 35
        },
        "id": "WgLA00JyTbcB",
        "outputId": "c1ae2bd0-eafb-42b6-9cba-d6deace4715f"
      },
      "source": [
        "st.rstrip() # 오른쪽 공백 제거"
      ],
      "execution_count": null,
      "outputs": [
        {
          "output_type": "execute_result",
          "data": {
            "application/vnd.google.colaboratory.intrinsic+json": {
              "type": "string"
            },
            "text/plain": [
              "'Hello, world!'"
            ]
          },
          "metadata": {
            "tags": []
          },
          "execution_count": 4
        }
      ]
    },
    {
      "cell_type": "markdown",
      "metadata": {
        "id": "ZS1vbU4fTd7L"
      },
      "source": [
        "split(delim=\"\") 문자열 자르기 함수"
      ]
    },
    {
      "cell_type": "code",
      "metadata": {
        "colab": {
          "base_uri": "https://localhost:8080/"
        },
        "id": "53_iIUiITnsT",
        "outputId": "b1edcb45-436f-46df-c865-a73d3a94b99a"
      },
      "source": [
        "\"Hello, world!\".split() # delim 구분자 -> default 공백"
      ],
      "execution_count": null,
      "outputs": [
        {
          "output_type": "execute_result",
          "data": {
            "text/plain": [
              "['Hello,', 'world!']"
            ]
          },
          "metadata": {
            "tags": []
          },
          "execution_count": 5
        }
      ]
    },
    {
      "cell_type": "code",
      "metadata": {
        "colab": {
          "base_uri": "https://localhost:8080/"
        },
        "id": "UsylALTBTq1H",
        "outputId": "cf30606a-48a2-4884-80d6-4a34463819a4"
      },
      "source": [
        "\"Hello,  world!\".split(\" \") # Hello,와 world! 사이에 공백이 2개 있다."
      ],
      "execution_count": null,
      "outputs": [
        {
          "output_type": "execute_result",
          "data": {
            "text/plain": [
              "['Hello,', '', 'world!']"
            ]
          },
          "metadata": {
            "tags": []
          },
          "execution_count": 6
        }
      ]
    },
    {
      "cell_type": "code",
      "metadata": {
        "colab": {
          "base_uri": "https://localhost:8080/"
        },
        "id": "_W9zLOD-Ts56",
        "outputId": "0cfd9c8a-602c-4ff4-8a43-c21c53140b99"
      },
      "source": [
        "\"www.networksciencelab.com\".split(\".\")"
      ],
      "execution_count": null,
      "outputs": [
        {
          "output_type": "execute_result",
          "data": {
            "text/plain": [
              "['www', 'networksciencelab', 'com']"
            ]
          },
          "metadata": {
            "tags": []
          },
          "execution_count": 7
        }
      ]
    },
    {
      "cell_type": "code",
      "metadata": {
        "id": "XVoGhVjzyiOx"
      },
      "source": [
        ""
      ],
      "execution_count": null,
      "outputs": []
    },
    {
      "cell_type": "markdown",
      "metadata": {
        "id": "lDNyx1yJUHrX"
      },
      "source": [
        "join(ls) 문자열을 연결시키는 함수"
      ]
    },
    {
      "cell_type": "code",
      "metadata": {
        "colab": {
          "base_uri": "https://localhost:8080/",
          "height": 35
        },
        "id": "MEnx3fRRUPM5",
        "outputId": "5b78357f-5d53-40dc-f3e5-0a07b7cb3513"
      },
      "source": [
        "\", \".join([\"alpha\", \"bravo\", \"charlie\", \"delta\"]) # 문자열 리스트 ls 하나의 문자열로 붙임 -> 문자열 조각을 재조합"
      ],
      "execution_count": null,
      "outputs": [
        {
          "output_type": "execute_result",
          "data": {
            "application/vnd.google.colaboratory.intrinsic+json": {
              "type": "string"
            },
            "text/plain": [
              "'alpha, bravo, charlie, delta'"
            ]
          },
          "metadata": {
            "tags": []
          },
          "execution_count": 8
        }
      ]
    },
    {
      "cell_type": "code",
      "metadata": {
        "colab": {
          "base_uri": "https://localhost:8080/",
          "height": 35
        },
        "id": "_rw2ulvdUYsj",
        "outputId": "c0ade0da-efc8-4e0c-863f-d6fb0c2a7a34"
      },
      "source": [
        "\"-\".join(\"1.617.305.1985\".split(\".\"))"
      ],
      "execution_count": null,
      "outputs": [
        {
          "output_type": "execute_result",
          "data": {
            "application/vnd.google.colaboratory.intrinsic+json": {
              "type": "string"
            },
            "text/plain": [
              "'1-617-305-1985'"
            ]
          },
          "metadata": {
            "tags": []
          },
          "execution_count": 9
        }
      ]
    },
    {
      "cell_type": "code",
      "metadata": {
        "colab": {
          "base_uri": "https://localhost:8080/",
          "height": 35
        },
        "id": "f11kTBT0UcEe",
        "outputId": "d0431bba-4143-40c5-b9d2-0e1919965b8d"
      },
      "source": [
        "\" \".join(\"This string\\n\\r has many\\t\\tspaces\".split())"
      ],
      "execution_count": null,
      "outputs": [
        {
          "output_type": "execute_result",
          "data": {
            "application/vnd.google.colaboratory.intrinsic+json": {
              "type": "string"
            },
            "text/plain": [
              "'This string has many spaces'"
            ]
          },
          "metadata": {
            "tags": []
          },
          "execution_count": 10
        }
      ]
    },
    {
      "cell_type": "markdown",
      "metadata": {
        "id": "QFjw5ksZUhx3"
      },
      "source": [
        "find(needle) 해당 문자열에 부문 문자열 needle 처음 등장하는 인덱스 반환(위치) 없으면 -1 반환하는 함수 (대소문자 구분)"
      ]
    },
    {
      "cell_type": "code",
      "metadata": {
        "colab": {
          "base_uri": "https://localhost:8080/"
        },
        "id": "R8Xg_RKsUfkx",
        "outputId": "ce1e0f17-eeda-4622-f24a-df9e9a4d829e"
      },
      "source": [
        "\"www.networksciencelab.com\".find(\".com\") "
      ],
      "execution_count": null,
      "outputs": [
        {
          "output_type": "execute_result",
          "data": {
            "text/plain": [
              "21"
            ]
          },
          "metadata": {
            "tags": []
          },
          "execution_count": 11
        }
      ]
    },
    {
      "cell_type": "code",
      "metadata": {
        "colab": {
          "base_uri": "https://localhost:8080/"
        },
        "id": "NrQXnVK9trPX",
        "outputId": "efb012f1-f5f5-46cd-bd11-e044b0e03da8"
      },
      "source": [
        "\"www.networksciencelab.Com\".find(\".com\") "
      ],
      "execution_count": null,
      "outputs": [
        {
          "output_type": "execute_result",
          "data": {
            "text/plain": [
              "-1"
            ]
          },
          "metadata": {
            "tags": []
          },
          "execution_count": 12
        }
      ]
    },
    {
      "cell_type": "markdown",
      "metadata": {
        "id": "0JlQgvP9U_z0"
      },
      "source": [
        "count(needle) 해당 문자열에서 등장하는 횟수를 반환하는 함수 (대소문자 구분)"
      ]
    },
    {
      "cell_type": "code",
      "metadata": {
        "colab": {
          "base_uri": "https://localhost:8080/"
        },
        "id": "3fmuM7D6U9BJ",
        "outputId": "1666f822-4644-4ede-de34-0a3655d85435"
      },
      "source": [
        "\"www.networksciencelab.com\".count(\".\")"
      ],
      "execution_count": null,
      "outputs": [
        {
          "output_type": "execute_result",
          "data": {
            "text/plain": [
              "2"
            ]
          },
          "metadata": {
            "tags": []
          },
          "execution_count": 13
        }
      ]
    },
    {
      "cell_type": "code",
      "metadata": {
        "colab": {
          "base_uri": "https://localhost:8080/"
        },
        "id": "xKCWsV6jtvo7",
        "outputId": "dad1f108-9763-45a8-c306-f0036dc82034"
      },
      "source": [
        "\"www.networksciencelab.com\".count(\"w\")"
      ],
      "execution_count": null,
      "outputs": [
        {
          "output_type": "execute_result",
          "data": {
            "text/plain": [
              "4"
            ]
          },
          "metadata": {
            "tags": []
          },
          "execution_count": 14
        }
      ]
    },
    {
      "cell_type": "code",
      "metadata": {
        "colab": {
          "base_uri": "https://localhost:8080/"
        },
        "id": "3Hhnz6h3t2LZ",
        "outputId": "5f28c04d-d014-41ad-dd22-9edd97888de6"
      },
      "source": [
        "\"www.networksciencelab.com\".count(\"C\")"
      ],
      "execution_count": null,
      "outputs": [
        {
          "output_type": "execute_result",
          "data": {
            "text/plain": [
              "0"
            ]
          },
          "metadata": {
            "tags": []
          },
          "execution_count": 15
        }
      ]
    },
    {
      "cell_type": "markdown",
      "metadata": {
        "id": "jDg5xFtRue7M"
      },
      "source": [
        "프레디케이트 함수 → 문자열 s가 특정 클래스에 속하는지 True, False로 반환"
      ]
    },
    {
      "cell_type": "code",
      "metadata": {
        "colab": {
          "base_uri": "https://localhost:8080/"
        },
        "id": "eUWDeC9puhxg",
        "outputId": "9f9c1c00-26ce-4159-adbb-2a92d3d4948f"
      },
      "source": [
        "\"www.networksciencelab.com\".islower() # 모든 알파벳 문자가 소문자인지 체크"
      ],
      "execution_count": null,
      "outputs": [
        {
          "output_type": "execute_result",
          "data": {
            "text/plain": [
              "True"
            ]
          },
          "metadata": {
            "tags": []
          },
          "execution_count": 16
        }
      ]
    },
    {
      "cell_type": "code",
      "metadata": {
        "colab": {
          "base_uri": "https://localhost:8080/"
        },
        "id": "Ng1gJqCjun_r",
        "outputId": "6c69f9e4-432b-4a1c-91aa-df9876324a6e"
      },
      "source": [
        "\"www.networksciencelab.com\".isupper() # 모든 알파벳 문자가 대문자인지 체크"
      ],
      "execution_count": null,
      "outputs": [
        {
          "output_type": "execute_result",
          "data": {
            "text/plain": [
              "False"
            ]
          },
          "metadata": {
            "tags": []
          },
          "execution_count": 17
        }
      ]
    },
    {
      "cell_type": "code",
      "metadata": {
        "colab": {
          "base_uri": "https://localhost:8080/"
        },
        "id": "bRJw1HhPusgz",
        "outputId": "ce55832c-2e75-4f45-9f41-dfb0c08e8b95"
      },
      "source": [
        "\"www.networksciencelab.com\".isdigit() # 0~9 사이 숫자인지 확인"
      ],
      "execution_count": null,
      "outputs": [
        {
          "output_type": "execute_result",
          "data": {
            "text/plain": [
              "False"
            ]
          },
          "metadata": {
            "tags": []
          },
          "execution_count": 18
        }
      ]
    },
    {
      "cell_type": "code",
      "metadata": {
        "colab": {
          "base_uri": "https://localhost:8080/"
        },
        "id": "ylZ2a-OpuvC4",
        "outputId": "4e1eece4-0a35-4d85-8f61-fb22840c9547"
      },
      "source": [
        "\"www.networksciencelab.com\".isalpha() # a~z, A~Z 사이의 알파벳 문자인지 체크"
      ],
      "execution_count": null,
      "outputs": [
        {
          "output_type": "execute_result",
          "data": {
            "text/plain": [
              "False"
            ]
          },
          "metadata": {
            "tags": []
          },
          "execution_count": 19
        }
      ]
    },
    {
      "cell_type": "code",
      "metadata": {
        "colab": {
          "base_uri": "https://localhost:8080/"
        },
        "id": "4jk5BBI-uy24",
        "outputId": "26b77ac5-737d-49a1-ce73-f62cfda4dd64"
      },
      "source": [
        "\"wwwnetworksciencelabcom\".isalpha() # dot(.) 제거 해야 만 True"
      ],
      "execution_count": null,
      "outputs": [
        {
          "output_type": "execute_result",
          "data": {
            "text/plain": [
              "True"
            ]
          },
          "metadata": {
            "tags": []
          },
          "execution_count": 20
        }
      ]
    },
    {
      "cell_type": "markdown",
      "metadata": {
        "id": "fnBU3ZysvWBE"
      },
      "source": [
        "대·소문자 변환 함수 → 모든 문자 대·소문자 변환 (문자열 s의 복사본 반환)"
      ]
    },
    {
      "cell_type": "code",
      "metadata": {
        "colab": {
          "base_uri": "https://localhost:8080/",
          "height": 35
        },
        "id": "9ngcqnT9veSC",
        "outputId": "0a3efb9f-dfdf-4477-ae8e-1003bbc06ba5"
      },
      "source": [
        "st = \"www.networksciencelab.com\".upper()\n",
        "st"
      ],
      "execution_count": null,
      "outputs": [
        {
          "output_type": "execute_result",
          "data": {
            "application/vnd.google.colaboratory.intrinsic+json": {
              "type": "string"
            },
            "text/plain": [
              "'WWW.NETWORKSCIENCELAB.COM'"
            ]
          },
          "metadata": {
            "tags": []
          },
          "execution_count": 21
        }
      ]
    },
    {
      "cell_type": "code",
      "metadata": {
        "colab": {
          "base_uri": "https://localhost:8080/",
          "height": 35
        },
        "id": "sUT6rwNavms6",
        "outputId": "300b57a3-32a7-44e8-df51-eba577c9543b"
      },
      "source": [
        "st.lower()"
      ],
      "execution_count": null,
      "outputs": [
        {
          "output_type": "execute_result",
          "data": {
            "application/vnd.google.colaboratory.intrinsic+json": {
              "type": "string"
            },
            "text/plain": [
              "'www.networksciencelab.com'"
            ]
          },
          "metadata": {
            "tags": []
          },
          "execution_count": 22
        }
      ]
    },
    {
      "cell_type": "code",
      "metadata": {
        "colab": {
          "base_uri": "https://localhost:8080/",
          "height": 35
        },
        "id": "0TCPqvVOvqLC",
        "outputId": "f669e0b0-86b9-45fd-db0b-319970f152b1"
      },
      "source": [
        "st # 문자열 s의 복사본 반환 한 것이기 때문에 문자열 자체가 변경되지 않음"
      ],
      "execution_count": null,
      "outputs": [
        {
          "output_type": "execute_result",
          "data": {
            "application/vnd.google.colaboratory.intrinsic+json": {
              "type": "string"
            },
            "text/plain": [
              "'WWW.NETWORKSCIENCELAB.COM'"
            ]
          },
          "metadata": {
            "tags": []
          },
          "execution_count": 23
        }
      ]
    },
    {
      "cell_type": "markdown",
      "metadata": {
        "id": "gnddpobscnwp"
      },
      "source": [
        "2.올바른 자료구조 선택하기"
      ]
    },
    {
      "cell_type": "markdown",
      "metadata": {
        "id": "o8J39F-XwxBp"
      },
      "source": [
        "중복된 아이템이 있는 리스트 -> myList"
      ]
    },
    {
      "cell_type": "code",
      "metadata": {
        "id": "38hitCp-xKft"
      },
      "source": [
        "myList = \"This string\\n\\r has many\\t\\tspaces\\tThis string\\n\\r has many\\t\\tspaces\".split()"
      ],
      "execution_count": null,
      "outputs": []
    },
    {
      "cell_type": "code",
      "metadata": {
        "colab": {
          "base_uri": "https://localhost:8080/"
        },
        "id": "_c_A8COmxVZs",
        "outputId": "2e14a290-71b1-41c7-b676-0852b6a4b62d"
      },
      "source": [
        "myList"
      ],
      "execution_count": null,
      "outputs": [
        {
          "output_type": "execute_result",
          "data": {
            "text/plain": [
              "['This',\n",
              " 'string',\n",
              " 'has',\n",
              " 'many',\n",
              " 'spaces',\n",
              " 'This',\n",
              " 'string',\n",
              " 'has',\n",
              " 'many',\n",
              " 'spaces']"
            ]
          },
          "metadata": {
            "tags": []
          },
          "execution_count": 27
        }
      ]
    },
    {
      "cell_type": "markdown",
      "metadata": {
        "id": "dkOZ_ZBOyHR8"
      },
      "source": [
        "리스트 -> 셋 변환 -> 다시 리스트로 변환"
      ]
    },
    {
      "cell_type": "code",
      "metadata": {
        "colab": {
          "base_uri": "https://localhost:8080/"
        },
        "id": "uecE95UdxBXd",
        "outputId": "53bd18d1-29ad-4ddc-b4c4-766b11268c2c"
      },
      "source": [
        "myList= list(set(myList)) # myList에서 중복된 아이템을 삭제한다\n",
        "myList"
      ],
      "execution_count": null,
      "outputs": [
        {
          "output_type": "execute_result",
          "data": {
            "text/plain": [
              "['has', 'many', 'This', 'spaces', 'string']"
            ]
          },
          "metadata": {
            "tags": []
          },
          "execution_count": 28
        }
      ]
    },
    {
      "cell_type": "markdown",
      "metadata": {
        "id": "RetStEijcr4V"
      },
      "source": [
        "리스트 vs 셋 회원 명단 조회하기"
      ]
    },
    {
      "cell_type": "code",
      "metadata": {
        "colab": {
          "base_uri": "https://localhost:8080/"
        },
        "id": "tG5Z9hsEcrop",
        "outputId": "d81491df-cd98-4266-bc9b-81963b5e2a28"
      },
      "source": [
        "bigList = [str(i) for i in range(10000000)]\n",
        "\"abc\" in bigList #3초 정도 걸림"
      ],
      "execution_count": null,
      "outputs": [
        {
          "output_type": "execute_result",
          "data": {
            "text/plain": [
              "False"
            ]
          },
          "metadata": {
            "tags": []
          },
          "execution_count": 29
        }
      ]
    },
    {
      "cell_type": "code",
      "metadata": {
        "colab": {
          "base_uri": "https://localhost:8080/"
        },
        "id": "2lawo3P7cvr2",
        "outputId": "26b5eaf8-a807-450d-c180-2a20489b0619"
      },
      "source": [
        "bigList = set(bigList) # 셋으로 변환 하면 중복 제거 되기 때문에 데이터 조회 시 빠름\n",
        "\"abc\" in bigList # 0초 걸림 "
      ],
      "execution_count": null,
      "outputs": [
        {
          "output_type": "execute_result",
          "data": {
            "text/plain": [
              "False"
            ]
          },
          "metadata": {
            "tags": []
          },
          "execution_count": 30
        }
      ]
    },
    {
      "cell_type": "markdown",
      "metadata": {
        "id": "Eqf8FLrTP-fM"
      },
      "source": [
        "딕셔너리 (키-값으로 검색해야 할 때 매우 유용)"
      ]
    },
    {
      "cell_type": "markdown",
      "metadata": {
        "id": "K84buDhZdAQE"
      },
      "source": [
        "리스트 딕셔너리 만들기 - enumerate 사용"
      ]
    },
    {
      "cell_type": "code",
      "metadata": {
        "colab": {
          "base_uri": "https://localhost:8080/"
        },
        "id": "fL2FUrhDdBxd",
        "outputId": "025a0478-f862-46ed-ffd5-315a7e568ad5"
      },
      "source": [
        "seq = [\"alpha\", \"bravo\", \"charlie\", \"delta\"]\n",
        "dict(enumerate(seq))"
      ],
      "execution_count": null,
      "outputs": [
        {
          "output_type": "execute_result",
          "data": {
            "text/plain": [
              "{0: 'alpha', 1: 'bravo', 2: 'charlie', 3: 'delta'}"
            ]
          },
          "metadata": {
            "tags": []
          },
          "execution_count": 32
        }
      ]
    },
    {
      "cell_type": "markdown",
      "metadata": {
        "id": "rplgMV72dDrX"
      },
      "source": [
        "리스트 딕셔너리 만들기 - 키순서열과 값 순서영에 클래스 생성자인 zip(key, value) 사용"
      ]
    },
    {
      "cell_type": "code",
      "metadata": {
        "colab": {
          "base_uri": "https://localhost:8080/"
        },
        "id": "vNlrMnomdEK2",
        "outputId": "f6e7581f-08a3-4d54-aa7f-4fb67d28e443"
      },
      "source": [
        "kseq = \"abcd\" # 문자열 또한, 순서열이다.\n",
        "vseq = [\"alpha\", \"bravo\", \"charlie\", \"delta\"]\n",
        "dict(zip(kseq, vseq))"
      ],
      "execution_count": null,
      "outputs": [
        {
          "output_type": "execute_result",
          "data": {
            "text/plain": [
              "{'a': 'alpha', 'b': 'bravo', 'c': 'charlie', 'd': 'delta'}"
            ]
          },
          "metadata": {
            "tags": []
          },
          "execution_count": 31
        }
      ]
    },
    {
      "cell_type": "code",
      "metadata": {
        "colab": {
          "base_uri": "https://localhost:8080/"
        },
        "id": "1T_aUanazEpY",
        "outputId": "29aeabb6-fa62-4306-a7b0-5891f80d6d90"
      },
      "source": [
        "kseq = \"aaaa\" # key 순서열 문자열 -> 중복일 경우 a key 에 마지막 값이 담김\n",
        "vseq = [\"alpha\", \"bravo\", \"charlie\", \"delta\"]\n",
        "dict(zip(kseq, vseq))"
      ],
      "execution_count": null,
      "outputs": [
        {
          "output_type": "execute_result",
          "data": {
            "text/plain": [
              "{'a': 'delta'}"
            ]
          },
          "metadata": {
            "tags": []
          },
          "execution_count": 33
        }
      ]
    },
    {
      "cell_type": "markdown",
      "metadata": {
        "id": "pQhQxNQTdY7Q"
      },
      "source": [
        "카운더 (counter)는 딕셔너리 스타일의 컬렉션에서 다른 컬렉션 안의 아이템 개수 셀 때 사용"
      ]
    },
    {
      "cell_type": "code",
      "metadata": {
        "colab": {
          "base_uri": "https://localhost:8080/"
        },
        "id": "DBkcQZWEdYSl",
        "outputId": "7a2f210c-2b58-4e09-d9b5-e6ba6554e772"
      },
      "source": [
        "from collections import Counter\n",
        "\n",
        "phrase = \"a man a plan a canal panama\"\n",
        "\n",
        "cntr = Counter(phrase.split())\n",
        "cntr.most_common() #가장 빈번하게 등장한 n개의 아이템과 빈도 추출"
      ],
      "execution_count": null,
      "outputs": [
        {
          "output_type": "execute_result",
          "data": {
            "text/plain": [
              "[('a', 3), ('man', 1), ('plan', 1), ('canal', 1), ('panama', 1)]"
            ]
          },
          "metadata": {
            "tags": []
          },
          "execution_count": 2
        }
      ]
    },
    {
      "cell_type": "code",
      "metadata": {
        "colab": {
          "base_uri": "https://localhost:8080/"
        },
        "id": "Xb_WlWd-rKfq",
        "outputId": "ff4522ff-b626-493e-f1ed-91313dc0db6b"
      },
      "source": [
        "cntr.most_common(2) #가장 빈번하게 등장한 2개의 아이템과 빈도 추출"
      ],
      "execution_count": null,
      "outputs": [
        {
          "output_type": "execute_result",
          "data": {
            "text/plain": [
              "[('a', 3), ('man', 1)]"
            ]
          },
          "metadata": {
            "tags": []
          },
          "execution_count": 3
        }
      ]
    },
    {
      "cell_type": "markdown",
      "metadata": {
        "id": "gT38XHtYdd6i"
      },
      "source": [
        "출력한 리스트를 딕셔너리로 변환하면 가독성 좋아짐"
      ]
    },
    {
      "cell_type": "code",
      "metadata": {
        "colab": {
          "base_uri": "https://localhost:8080/"
        },
        "id": "Qy0Bz06sdfFK",
        "outputId": "d95c16a1-1771-48c1-8c0a-c682679b4569"
      },
      "source": [
        "cntrDict = dict(cntr.most_common()) # key : 추출된 아이템, value : 아이템 빈도\n",
        "cntrDict"
      ],
      "execution_count": null,
      "outputs": [
        {
          "output_type": "execute_result",
          "data": {
            "text/plain": [
              "{'a': 3, 'canal': 1, 'man': 1, 'panama': 1, 'plan': 1}"
            ]
          },
          "metadata": {
            "tags": []
          },
          "execution_count": 35
        }
      ]
    },
    {
      "cell_type": "code",
      "metadata": {
        "colab": {
          "base_uri": "https://localhost:8080/"
        },
        "id": "maJcJ3Sgdhqc",
        "outputId": "400dacb3-c609-438f-e6b0-dd473d161098"
      },
      "source": [
        "cntrDict['a']"
      ],
      "execution_count": null,
      "outputs": [
        {
          "output_type": "execute_result",
          "data": {
            "text/plain": [
              "3"
            ]
          },
          "metadata": {
            "tags": []
          },
          "execution_count": 36
        }
      ]
    },
    {
      "cell_type": "markdown",
      "metadata": {
        "id": "62AnoVJNg01M"
      },
      "source": [
        "웹에 접근하기"
      ]
    },
    {
      "cell_type": "code",
      "metadata": {
        "colab": {
          "base_uri": "https://localhost:8080/"
        },
        "id": "LAij28TiskzE",
        "outputId": "23097c54-1624-424d-8f06-c9532b2fb954"
      },
      "source": [
        "import urllib.request\n",
        "\n",
        "try:\n",
        "  with urllib.urlopen(\"http://networksciencelab.com\") as doc:\n",
        "    html = doc.read()\n",
        "    print(html)\n",
        "\n",
        "except:\n",
        "  print(\"Could not open \")"
      ],
      "execution_count": null,
      "outputs": [
        {
          "output_type": "stream",
          "text": [
            "Could not open \n"
          ],
          "name": "stdout"
        }
      ]
    },
    {
      "cell_type": "code",
      "metadata": {
        "colab": {
          "base_uri": "https://localhost:8080/"
        },
        "id": "WfLlBLUgg4mT",
        "outputId": "5e9fb35c-419f-4905-936e-4efc8e5851f7"
      },
      "source": [
        "import urllib.parse\n",
        "\n",
        "URL = \"http://networksciencelab.com/index.html;param?foo=bar#content\" # url 파싱하여 6개의 아이템으로 구성된 튜플로 분리 스키마 네트워크 주소, 파일 시스템 경로, 파라미터, 쿼리, 플래그먼트\n",
        "\n",
        "urllib.parse.urlparse(URL)"
      ],
      "execution_count": null,
      "outputs": [
        {
          "output_type": "execute_result",
          "data": {
            "text/plain": [
              "ParseResult(scheme='http', netloc='networksciencelab.com', path='/index.html', params='param', query='foo=bar', fragment='content')"
            ]
          },
          "metadata": {
            "tags": []
          },
          "execution_count": 4
        }
      ]
    },
    {
      "cell_type": "markdown",
      "metadata": {
        "id": "56IJTq2GwPy-"
      },
      "source": [
        "정규식"
      ]
    },
    {
      "cell_type": "code",
      "metadata": {
        "colab": {
          "base_uri": "https://localhost:8080/"
        },
        "id": "zW1_CFeVwRAl",
        "outputId": "44a8cca6-3cce-4570-aca1-3d4a3e1f0891"
      },
      "source": [
        "a = 'abcdef\\n'\n",
        "print(a)\n",
        "\n",
        "b = r'abcdef\\n' #원천 문자열로 인식\n",
        "print(b)"
      ],
      "execution_count": null,
      "outputs": [
        {
          "output_type": "stream",
          "text": [
            "abcdef\n",
            "\n",
            "abcdef\\n\n"
          ],
          "name": "stdout"
        }
      ]
    },
    {
      "cell_type": "code",
      "metadata": {
        "colab": {
          "base_uri": "https://localhost:8080/"
        },
        "id": "pXHjo1Vyyxww",
        "outputId": "f78f9ade-7892-418a-d2f8-e7406cf7712e"
      },
      "source": [
        "re.compile(r'(\\d+)/(\\d+)/(\\d+)') # raw string"
      ],
      "execution_count": null,
      "outputs": [
        {
          "output_type": "execute_result",
          "data": {
            "text/plain": [
              "re.compile(r'(\\d+)/(\\d+)/(\\d+)', re.UNICODE)"
            ]
          },
          "metadata": {
            "tags": []
          },
          "execution_count": 26
        }
      ]
    },
    {
      "cell_type": "code",
      "metadata": {
        "colab": {
          "base_uri": "https://localhost:8080/"
        },
        "id": "UvkJ34lyyyab",
        "outputId": "cd6a6fa8-1f32-4623-ffc5-5d8382077d69"
      },
      "source": [
        "re.compile('(\\\\d+)/(\\\\d+)/(\\\\d+)') # raw string 사용하지 않으면, 슬래시를 두 번 사용해야 하는 불편함 -> 그래서 보통 r문자를 붙여줌 "
      ],
      "execution_count": null,
      "outputs": [
        {
          "output_type": "execute_result",
          "data": {
            "text/plain": [
              "re.compile(r'(\\d+)/(\\d+)/(\\d+)', re.UNICODE)"
            ]
          },
          "metadata": {
            "tags": []
          },
          "execution_count": 25
        }
      ]
    },
    {
      "cell_type": "markdown",
      "metadata": {
        "id": "5LhrYnyDgszn"
      },
      "source": [
        "정규 표현식으로 패턴 매칭하기"
      ]
    },
    {
      "cell_type": "markdown",
      "metadata": {
        "id": "Dy9dOU-_0N91"
      },
      "source": [
        "re.split() 함수 단어 분석을 위한 기본적인 단어 토크나이저로 사용 할 수 있음"
      ]
    },
    {
      "cell_type": "code",
      "metadata": {
        "colab": {
          "base_uri": "https://localhost:8080/"
        },
        "id": "go4ovDJvgwqx",
        "outputId": "24a7237e-bb73-4702-cb7a-f5476c5ea727"
      },
      "source": [
        "import re\n",
        "\n",
        "re.split(r\"\\W\", \"Hello, world!\") # r\"\\W\" 알파벳이나 숫자가 아닌 개체 1개"
      ],
      "execution_count": null,
      "outputs": [
        {
          "output_type": "execute_result",
          "data": {
            "text/plain": [
              "['Hello', '', 'world', '']"
            ]
          },
          "metadata": {
            "tags": []
          },
          "execution_count": 15
        }
      ]
    },
    {
      "cell_type": "code",
      "metadata": {
        "colab": {
          "base_uri": "https://localhost:8080/"
        },
        "id": "2lul9JlEg-JM",
        "outputId": "fe772668-2888-4113-85ec-cfae78580f00"
      },
      "source": [
        "# 인근에 위치한 비문자(non-letter)를 합친다.\n",
        "re.split(r\"\\W+\", \"Hello, world!\") #r\"\\W+\" 알파벳이나 숫자가 아닌 개체 1개 합친다(+)"
      ],
      "execution_count": null,
      "outputs": [
        {
          "output_type": "execute_result",
          "data": {
            "text/plain": [
              "['Hello', 'world', '']"
            ]
          },
          "metadata": {
            "tags": []
          },
          "execution_count": 32
        }
      ]
    },
    {
      "cell_type": "code",
      "metadata": {
        "colab": {
          "base_uri": "https://localhost:8080/"
        },
        "id": "H6XieWOJhG8W",
        "outputId": "36a88f34-188c-40e7-9651-ad2e2923ded0"
      },
      "source": [
        "mo = re.match(r\"\\d+\", \"067 Starts with a number\") #\\d 숫자 찾기 match 함수는 문자열의 시작 부분이 정규 표현식과 매칭되는지 확인\n",
        "mo"
      ],
      "execution_count": null,
      "outputs": [
        {
          "output_type": "execute_result",
          "data": {
            "text/plain": [
              "<re.Match object; span=(0, 3), match='067'>"
            ]
          },
          "metadata": {
            "tags": []
          },
          "execution_count": 33
        }
      ]
    },
    {
      "cell_type": "code",
      "metadata": {
        "colab": {
          "base_uri": "https://localhost:8080/",
          "height": 35
        },
        "id": "ttmfW0VNhJuR",
        "outputId": "d1403bb9-4e25-43b3-be28-7cdb28f8f7a4"
      },
      "source": [
        "mo.group() #매칭되는 부분 가져오기"
      ],
      "execution_count": null,
      "outputs": [
        {
          "output_type": "execute_result",
          "data": {
            "application/vnd.google.colaboratory.intrinsic+json": {
              "type": "string"
            },
            "text/plain": [
              "'067'"
            ]
          },
          "metadata": {
            "tags": []
          },
          "execution_count": 34
        }
      ]
    },
    {
      "cell_type": "code",
      "metadata": {
        "colab": {
          "base_uri": "https://localhost:8080/"
        },
        "id": "7drD7Qz3hKvq",
        "outputId": "0313572a-03af-4662-8490-78cf1ff0a135"
      },
      "source": [
        "print(re.match(r\"\\d+\", \"Does not start with a number\"))  #\\d 숫자 찾기 없어서 None"
      ],
      "execution_count": null,
      "outputs": [
        {
          "output_type": "stream",
          "text": [
            "None\n"
          ],
          "name": "stdout"
        }
      ]
    },
    {
      "cell_type": "code",
      "metadata": {
        "colab": {
          "base_uri": "https://localhost:8080/",
          "height": 35
        },
        "id": "wf8nMLey0jUR",
        "outputId": "14b0fcc0-3d6d-4ead-e686-d6f74e747c3c"
      },
      "source": [
        "# search 문자열 일부분이 정규식과 매칭되는지 확인(매칭되는게 앞부분에 없다면 이 함수 사용) \n",
        "# [a-z] : 소문자들만 일치\n",
        "# re.I : 대소문자 구분 하지 않음\n",
        "re.search(r\"[a-z]+\", \"0010010 Has at least one 010 letter 0010010\",re.I).group() "
      ],
      "execution_count": null,
      "outputs": [
        {
          "output_type": "execute_result",
          "data": {
            "application/vnd.google.colaboratory.intrinsic+json": {
              "type": "string"
            },
            "text/plain": [
              "'Has'"
            ]
          },
          "metadata": {
            "tags": []
          },
          "execution_count": 37
        }
      ]
    },
    {
      "cell_type": "code",
      "metadata": {
        "colab": {
          "base_uri": "https://localhost:8080/"
        },
        "id": "2JxvLQi2hUAy",
        "outputId": "5dd9af77-7bfe-4702-cb46-a4ee9cf42576"
      },
      "source": [
        "# 대소문자를 구분하는 버전 -> 소문자들만 일치\n",
        "re.search(r\"[a-z]+\", \"0010010 Has at least one 010 letter 0010010\")"
      ],
      "execution_count": null,
      "outputs": [
        {
          "output_type": "execute_result",
          "data": {
            "text/plain": [
              "<re.Match object; span=(9, 11), match='as'>"
            ]
          },
          "metadata": {
            "tags": []
          },
          "execution_count": 40
        }
      ]
    },
    {
      "cell_type": "code",
      "metadata": {
        "colab": {
          "base_uri": "https://localhost:8080/",
          "height": 35
        },
        "id": "OoRROEv40ujz",
        "outputId": "3f32ccc9-ad74-4e2d-b96e-6b952b8eade0"
      },
      "source": [
        "re.search(r\"[a-z]+\", \"0010010 Has at least one 010 letter 0010010\").group() #매칭되는 부분 가져오기"
      ],
      "execution_count": null,
      "outputs": [
        {
          "output_type": "execute_result",
          "data": {
            "application/vnd.google.colaboratory.intrinsic+json": {
              "type": "string"
            },
            "text/plain": [
              "'as'"
            ]
          },
          "metadata": {
            "tags": []
          },
          "execution_count": 41
        }
      ]
    },
    {
      "cell_type": "code",
      "metadata": {
        "colab": {
          "base_uri": "https://localhost:8080/"
        },
        "id": "vaMhCP1IhWaG",
        "outputId": "fadb0a37-1a78-4775-c03c-1b96d7b34ff3"
      },
      "source": [
        "# findall : 정규식에 부합하는 모든 문자열 찾기(대소문자 무시) -> 모든 소문자 들어 있는 토큰 찾기\n",
        "re.findall(r\"[a-z]+\", \"0010010 Has at least one 010 letter 0010010\", re.I)"
      ],
      "execution_count": null,
      "outputs": [
        {
          "output_type": "execute_result",
          "data": {
            "text/plain": [
              "['Has', 'at', 'least', 'one', 'letter']"
            ]
          },
          "metadata": {
            "tags": []
          },
          "execution_count": 42
        }
      ]
    },
    {
      "cell_type": "code",
      "metadata": {
        "colab": {
          "base_uri": "https://localhost:8080/"
        },
        "id": "VLBHwlvckkH8",
        "outputId": "e878a69e-1116-4b15-dbf1-97e6fd8a36b4"
      },
      "source": [
        "# findall : 정규식에 부합하는 모든 문자열 찾기(소문자만) -> 모든 소문자 들어 있는 토큰 찾기\n",
        "re.findall(r\"[a-z]+\", \"0010010 Has at least one 010 letter 0010010\")"
      ],
      "execution_count": null,
      "outputs": [
        {
          "output_type": "execute_result",
          "data": {
            "text/plain": [
              "['as', 'at', 'least', 'one', 'letter']"
            ]
          },
          "metadata": {
            "tags": []
          },
          "execution_count": 46
        }
      ]
    },
    {
      "cell_type": "code",
      "metadata": {
        "colab": {
          "base_uri": "https://localhost:8080/",
          "height": 35
        },
        "id": "CRdd9zB5hZRu",
        "outputId": "aed0d020-a5ae-4158-afd5-4244be7aff3a"
      },
      "source": [
        "# sub: string으로 매칭되는 부분 문자열을 repl로 치환\n",
        "# 소문자들만 일치 시켜서 [...]으로 치환하라\n",
        "re.sub(r\"[a-z]+\", \"[...]\", \"0010010 has at least one 010 letter 0010010\")"
      ],
      "execution_count": null,
      "outputs": [
        {
          "output_type": "execute_result",
          "data": {
            "application/vnd.google.colaboratory.intrinsic+json": {
              "type": "string"
            },
            "text/plain": [
              "'0010010[...]010[...]0010010'"
            ]
          },
          "metadata": {
            "tags": []
          },
          "execution_count": 47
        }
      ]
    },
    {
      "cell_type": "code",
      "metadata": {
        "colab": {
          "base_uri": "https://localhost:8080/",
          "height": 35
        },
        "id": "1nF3nMnS2Ft5",
        "outputId": "e34b71bc-fe77-403a-90c9-cca5a705747c"
      },
      "source": [
        "# sub: string으로 매칭되는 부분 문자열을 repl로 치환\n",
        "# 숫자들만 일치 시켜서 [...]으로 치환하라\n",
        "re.sub(r\"\\d+\", \"[...]\", \"0010010 has at least one 010 letter 0010010\")"
      ],
      "execution_count": null,
      "outputs": [
        {
          "output_type": "execute_result",
          "data": {
            "application/vnd.google.colaboratory.intrinsic+json": {
              "type": "string"
            },
            "text/plain": [
              "'[...] has at least one [...] letter [...]'"
            ]
          },
          "metadata": {
            "tags": []
          },
          "execution_count": 53
        }
      ]
    },
    {
      "cell_type": "code",
      "metadata": {
        "colab": {
          "base_uri": "https://localhost:8080/",
          "height": 35
        },
        "id": "nu_sbQF11TUW",
        "outputId": "505bc784-3301-44fc-f2e8-99db1c7750d1"
      },
      "source": [
        "re.sub(r\"[a-z]+\", \"****\", \"010-abcd-0100\")"
      ],
      "execution_count": null,
      "outputs": [
        {
          "output_type": "execute_result",
          "data": {
            "application/vnd.google.colaboratory.intrinsic+json": {
              "type": "string"
            },
            "text/plain": [
              "'010-****-0100'"
            ]
          },
          "metadata": {
            "tags": []
          },
          "execution_count": 50
        }
      ]
    },
    {
      "cell_type": "code",
      "metadata": {
        "colab": {
          "base_uri": "https://localhost:8080/",
          "height": 35
        },
        "id": "FhJ_m8la1-5U",
        "outputId": "fc7d7de6-6f3a-4479-ad43-4af83a47bb35"
      },
      "source": [
        "re.sub(r\"\\D+\", \"****\", \"010-abcd-0100\")"
      ],
      "execution_count": null,
      "outputs": [
        {
          "output_type": "execute_result",
          "data": {
            "application/vnd.google.colaboratory.intrinsic+json": {
              "type": "string"
            },
            "text/plain": [
              "'010****0100'"
            ]
          },
          "metadata": {
            "tags": []
          },
          "execution_count": 52
        }
      ]
    },
    {
      "cell_type": "markdown",
      "metadata": {
        "id": "-nLXhsYwlb9F"
      },
      "source": [
        "그로빙(globbing) 파일명이나 와일드 카드(* ? 등) 매칭"
      ]
    },
    {
      "cell_type": "code",
      "metadata": {
        "colab": {
          "base_uri": "https://localhost:8080/"
        },
        "id": "0wXzS2EclYg8",
        "outputId": "9fe8dec9-df62-4a42-fbfc-9cae38c6df02"
      },
      "source": [
        "import glob\n",
        "glob.glob(\"*.txt\")"
      ],
      "execution_count": null,
      "outputs": [
        {
          "output_type": "execute_result",
          "data": {
            "text/plain": [
              "[]"
            ]
          },
          "metadata": {
            "tags": []
          },
          "execution_count": 54
        }
      ]
    }
  ]
}
